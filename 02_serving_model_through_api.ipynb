{
 "cells": [
  {
   "cell_type": "markdown",
   "metadata": {},
   "source": [
    "# **Serving the model through an API**\n",
    "\n",
    "We did it with FASTAPI because:\n",
    "\n",
    "1. It's FAST.\n",
    "2. API (heh)\n",
    "3. We don't need complex routing so django is overkill.\n",
    "4. Flask is not asynchronous\n",
    "\n",
    "\n",
    "The code is at the `app.py` file.\n",
    "\n",
    "\n",
    "## **How to use:**\n",
    "\n",
    "1. Install\n",
    "\n",
    "    ```bash\n",
    "    sudo apt install uvicorn\n",
    "    ```\n",
    "\n",
    "2. Run to launch the app\n",
    "\n",
    "    ```bash\n",
    "    uvicorn app:app --reload\n",
    "    ```\n",
    "3. Send a POST request to the service: (Im using curl here, but if you guys have postman thats also valid)\n",
    "\n",
    "    ```bash\n",
    "    curl -X 'POST' \\\n",
    "    'http://127.0.0.1:8000/predict/' \\\n",
    "    -H 'accept: application/json' \\\n",
    "    -H 'Content-Type: application/json' \\\n",
    "    -d '{\n",
    "    \"url\": \"https://example.com\"\n",
    "    }'\n",
    "    ```\n",
    "\n",
    "4. You should get a response like:\n",
    "\n",
    "    ```JSON\n",
    "    {\"probability\":\"24.971%\",\"classification\":\"not phishing\"}\n",
    "    ```"
   ]
  },
  {
   "cell_type": "markdown",
   "metadata": {},
   "source": []
  }
 ],
 "metadata": {
  "language_info": {
   "name": "python"
  }
 },
 "nbformat": 4,
 "nbformat_minor": 2
}
